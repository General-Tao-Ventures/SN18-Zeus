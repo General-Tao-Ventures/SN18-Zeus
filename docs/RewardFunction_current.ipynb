{
 "cells": [
  {
   "cell_type": "markdown",
   "metadata": {},
   "source": [
    "## Introduction\n",
    "\n",
    "In this document, we outline the reward function used in this Bittensor subnet. The primary objective is to evaluate and incentivize miners based on the accuracy of their predictions relative to each other. To achieve this, we employ a relative scoring mechanism based on the Root Mean Squared Error (RMSE). This approach ensures that miners are rewarded for their performance in comparison to their peers, rather than against a fixed, potentially arbitrary, difficulty threshold.\n",
    "\n",
    "### The Relative Reward Function\n",
    "\n",
    "The reward function evaluates miner performance by calculating the RMSE of their predictions against the ground truth data. Miners are then ranked based on their RMSE, and their scores are linearly scaled relative to the best and worst performing miners within the current batch.\n",
    "\n",
    "Specifically:\n",
    "\n",
    "1.  **RMSE Calculation:** For each miner, the Root Mean Squared Error (RMSE) between their prediction and the actual data is calculated.\n",
    "2.  **Penalty Application:** A penalty mechanism is applied to miners that violate certain predefined criteria (e.g., invalid data format). Miners incurring a penalty receive a score of 0.\n",
    "3.  **Relative Scoring:**\n",
    "    * If all miners incur a penalty, all scores are set to 0.\n",
    "    * If all miners have the same RMSE, all scores are set to 1.\n",
    "    * Otherwise, the scores are linearly scaled between 0 and 1, where the miner with the highest RMSE receives a score of 0, and the miner with the lowest RMSE receives a score of 1.\n",
    "4.  **Reward Assignment:** The final score is assigned as the miner's reward.\n",
    "\n",
    "In mathematical terms, for miners without penalties:\n",
    "\n",
    "$$\n",
    "\\text{Score} = \\frac{\\text{Max}(\\text{RMSE}) - \\text{RMSE}}{\\text{Max}(\\text{RMSE}) - \\text{Min}(\\text{RMSE})}\n",
    "$$\n",
    "\n",
    "Where:\n",
    "\n",
    "* $\\text{RMSE}$: The Root Mean Squared Error of the miner's prediction.\n",
    "* $\\text{Max}(\\text{RMSE})$: The maximum RMSE value among all miners.\n",
    "* $\\text{Min}(\\text{RMSE})$: The minimum RMSE value among all miners.\n",
    "\n",
    "This relative scoring approach ensures that miners are consistently incentivized to improve their predictions in comparison to their peers, regardless of the absolute difficulty of the prediction task."
   ]
  }
 ],
 "metadata": {
  "kernelspec": {
   "display_name": "Python 3",
   "language": "python",
   "name": "python3"
  },
  "language_info": {
   "codemirror_mode": {
    "name": "ipython",
    "version": 3
   },
   "file_extension": ".py",
   "mimetype": "text/x-python",
   "name": "python",
   "nbconvert_exporter": "python",
   "pygments_lexer": "ipython3",
   "version": "3.11.11"
  }
 },
 "nbformat": 4,
 "nbformat_minor": 2
}
